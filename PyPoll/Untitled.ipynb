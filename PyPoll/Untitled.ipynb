{
 "cells": [
  {
   "cell_type": "code",
   "execution_count": 2,
   "id": "3e38a44a",
   "metadata": {},
   "outputs": [],
   "source": [
    "import os\n",
    "import csv"
   ]
  },
  {
   "cell_type": "code",
   "execution_count": 3,
   "id": "002d66be",
   "metadata": {},
   "outputs": [],
   "source": [
    "candidate_list = []\n",
    "vote_dic = {}\n",
    "\n",
    "electiondata_csv = os.path.join(\"Resources\", \"election_data.csv\")\n",
    "\n",
    "with open(electiondata_csv) as csvfile:\n",
    "    csvreader = csv.reader(csvfile)\n",
    "    header = next(csvreader)\n",
    "\n",
    "    for i in csvreader:\n",
    "        candidate_name = i[2]\n",
    "\n",
    "        if candidate_name not in candidate_list:\n",
    "            candidate_list.append(candidate_name)\n",
    "            vote_dic[candidate_name] = 0\n",
    "        vote_dic[candidate_name] += 1\n",
    "\n",
    "#print(candidate_list)\n",
    "#print(vote_dic)"
   ]
  },
  {
   "cell_type": "code",
   "execution_count": 5,
   "id": "16bca780",
   "metadata": {},
   "outputs": [],
   "source": [
    "totalvotes = sum(vote_dic[item] for item in vote_dic)\n",
    "#print(totalvotes)\n",
    "\n",
    "vote_list = [*vote_dic.values()]\n",
    "\n",
    "ccsvoteper = (vote_list[0]) / totalvotes * 100\n",
    "ddvoteper = (vote_list[1]) / totalvotes * 100\n",
    "radvoteper = (vote_list[2]) / totalvotes * 100\n",
    "\n",
    "winner = max(ccsvoteper, ddvoteper, radvoteper)\n",
    "if winner == ccsvoteper:\n",
    "    winner = candidate_list[0]\n",
    "if winner == ddvoteper:\n",
    "    winner = candidate_list[1]\n",
    "if winner == radvoteper:\n",
    "    winner = candidate_list[2]"
   ]
  },
  {
   "cell_type": "code",
   "execution_count": 6,
   "id": "3f4495a3",
   "metadata": {},
   "outputs": [],
   "source": [
    "output =(\n",
    "f\"Election Results\\n\"\n",
    "f\"----------------------------\\n\"\n",
    "f\"Total Votes: {totalvotes}\\n\"\n",
    "f\"----------------------------\\n\"\n",
    "f\"{candidate_list[0]}: ({ccsvoteper:.3f}%) {vote_list[0]}\\n\"\n",
    "f\"{candidate_list[1]}: ({ddvoteper:.3f}%) {vote_list[1]}\\n\"\n",
    "f\"{candidate_list[2]}: ({radvoteper:.3f}%) {vote_list[2]}\\n\"\n",
    "f\"----------------------------\\n\"\n",
    "f\"Winner: {winner}\\n\"\n",
    "f\"----------------------------\"\n",
    ")\n",
    "\n",
    "#print(output)"
   ]
  },
  {
   "cell_type": "code",
   "execution_count": 7,
   "id": "92e37be8",
   "metadata": {},
   "outputs": [],
   "source": [
    "polldata_txt = os.path.join(\"analysis\", \"poll_analysis.txt\")\n",
    "\n",
    "with open(polldata_txt,\"w\") as txtfile:\n",
    "    txtfile.write(output)"
   ]
  },
  {
   "cell_type": "code",
   "execution_count": null,
   "id": "3d336253",
   "metadata": {},
   "outputs": [],
   "source": []
  }
 ],
 "metadata": {
  "kernelspec": {
   "display_name": "Python 3 (ipykernel)",
   "language": "python",
   "name": "python3"
  },
  "language_info": {
   "codemirror_mode": {
    "name": "ipython",
    "version": 3
   },
   "file_extension": ".py",
   "mimetype": "text/x-python",
   "name": "python",
   "nbconvert_exporter": "python",
   "pygments_lexer": "ipython3",
   "version": "3.11.4"
  }
 },
 "nbformat": 4,
 "nbformat_minor": 5
}
